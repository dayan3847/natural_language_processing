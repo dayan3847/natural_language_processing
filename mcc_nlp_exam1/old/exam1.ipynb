{
 "cells": [
  {
   "cell_type": "code",
   "execution_count": 271,
   "outputs": [
    {
     "name": "stdout",
     "output_type": "stream",
     "text": [
      "Collecting es-core-news-sm==3.5.0\r\n",
      "  Using cached https://github.com/explosion/spacy-models/releases/download/es_core_news_sm-3.5.0/es_core_news_sm-3.5.0-py3-none-any.whl (12.9 MB)\r\n",
      "Requirement already satisfied: spacy<3.6.0,>=3.5.0 in ./venv/lib/python3.10/site-packages (from es-core-news-sm==3.5.0) (3.5.0)\r\n",
      "Requirement already satisfied: wasabi<1.2.0,>=0.9.1 in ./venv/lib/python3.10/site-packages (from spacy<3.6.0,>=3.5.0->es-core-news-sm==3.5.0) (1.1.1)\r\n",
      "Requirement already satisfied: spacy-legacy<3.1.0,>=3.0.11 in ./venv/lib/python3.10/site-packages (from spacy<3.6.0,>=3.5.0->es-core-news-sm==3.5.0) (3.0.12)\r\n",
      "Requirement already satisfied: pathy>=0.10.0 in ./venv/lib/python3.10/site-packages (from spacy<3.6.0,>=3.5.0->es-core-news-sm==3.5.0) (0.10.1)\r\n",
      "Requirement already satisfied: langcodes<4.0.0,>=3.2.0 in ./venv/lib/python3.10/site-packages (from spacy<3.6.0,>=3.5.0->es-core-news-sm==3.5.0) (3.3.0)\r\n",
      "Requirement already satisfied: jinja2 in ./venv/lib/python3.10/site-packages (from spacy<3.6.0,>=3.5.0->es-core-news-sm==3.5.0) (3.1.2)\r\n",
      "Requirement already satisfied: preshed<3.1.0,>=3.0.2 in ./venv/lib/python3.10/site-packages (from spacy<3.6.0,>=3.5.0->es-core-news-sm==3.5.0) (3.0.8)\r\n",
      "Requirement already satisfied: catalogue<2.1.0,>=2.0.6 in ./venv/lib/python3.10/site-packages (from spacy<3.6.0,>=3.5.0->es-core-news-sm==3.5.0) (2.0.8)\r\n",
      "Requirement already satisfied: spacy-loggers<2.0.0,>=1.0.0 in ./venv/lib/python3.10/site-packages (from spacy<3.6.0,>=3.5.0->es-core-news-sm==3.5.0) (1.0.4)\r\n",
      "Requirement already satisfied: tqdm<5.0.0,>=4.38.0 in ./venv/lib/python3.10/site-packages (from spacy<3.6.0,>=3.5.0->es-core-news-sm==3.5.0) (4.64.1)\r\n",
      "Requirement already satisfied: numpy>=1.15.0 in ./venv/lib/python3.10/site-packages (from spacy<3.6.0,>=3.5.0->es-core-news-sm==3.5.0) (1.24.2)\r\n",
      "Requirement already satisfied: packaging>=20.0 in ./venv/lib/python3.10/site-packages (from spacy<3.6.0,>=3.5.0->es-core-news-sm==3.5.0) (23.0)\r\n",
      "Requirement already satisfied: thinc<8.2.0,>=8.1.0 in ./venv/lib/python3.10/site-packages (from spacy<3.6.0,>=3.5.0->es-core-news-sm==3.5.0) (8.1.7)\r\n",
      "Requirement already satisfied: pydantic!=1.8,!=1.8.1,<1.11.0,>=1.7.4 in ./venv/lib/python3.10/site-packages (from spacy<3.6.0,>=3.5.0->es-core-news-sm==3.5.0) (1.10.5)\r\n",
      "Requirement already satisfied: murmurhash<1.1.0,>=0.28.0 in ./venv/lib/python3.10/site-packages (from spacy<3.6.0,>=3.5.0->es-core-news-sm==3.5.0) (1.0.9)\r\n",
      "Requirement already satisfied: requests<3.0.0,>=2.13.0 in ./venv/lib/python3.10/site-packages (from spacy<3.6.0,>=3.5.0->es-core-news-sm==3.5.0) (2.28.2)\r\n",
      "Requirement already satisfied: smart-open<7.0.0,>=5.2.1 in ./venv/lib/python3.10/site-packages (from spacy<3.6.0,>=3.5.0->es-core-news-sm==3.5.0) (6.3.0)\r\n",
      "Requirement already satisfied: setuptools in ./venv/lib/python3.10/site-packages (from spacy<3.6.0,>=3.5.0->es-core-news-sm==3.5.0) (65.5.1)\r\n",
      "Requirement already satisfied: typer<0.8.0,>=0.3.0 in ./venv/lib/python3.10/site-packages (from spacy<3.6.0,>=3.5.0->es-core-news-sm==3.5.0) (0.7.0)\r\n",
      "Requirement already satisfied: cymem<2.1.0,>=2.0.2 in ./venv/lib/python3.10/site-packages (from spacy<3.6.0,>=3.5.0->es-core-news-sm==3.5.0) (2.0.7)\r\n",
      "Requirement already satisfied: srsly<3.0.0,>=2.4.3 in ./venv/lib/python3.10/site-packages (from spacy<3.6.0,>=3.5.0->es-core-news-sm==3.5.0) (2.4.5)\r\n",
      "Requirement already satisfied: typing-extensions>=4.2.0 in ./venv/lib/python3.10/site-packages (from pydantic!=1.8,!=1.8.1,<1.11.0,>=1.7.4->spacy<3.6.0,>=3.5.0->es-core-news-sm==3.5.0) (4.5.0)\r\n",
      "Requirement already satisfied: certifi>=2017.4.17 in ./venv/lib/python3.10/site-packages (from requests<3.0.0,>=2.13.0->spacy<3.6.0,>=3.5.0->es-core-news-sm==3.5.0) (2022.12.7)\r\n",
      "Requirement already satisfied: charset-normalizer<4,>=2 in ./venv/lib/python3.10/site-packages (from requests<3.0.0,>=2.13.0->spacy<3.6.0,>=3.5.0->es-core-news-sm==3.5.0) (3.0.1)\r\n",
      "Requirement already satisfied: idna<4,>=2.5 in ./venv/lib/python3.10/site-packages (from requests<3.0.0,>=2.13.0->spacy<3.6.0,>=3.5.0->es-core-news-sm==3.5.0) (3.4)\r\n",
      "Requirement already satisfied: urllib3<1.27,>=1.21.1 in ./venv/lib/python3.10/site-packages (from requests<3.0.0,>=2.13.0->spacy<3.6.0,>=3.5.0->es-core-news-sm==3.5.0) (1.26.14)\r\n",
      "Requirement already satisfied: confection<1.0.0,>=0.0.1 in ./venv/lib/python3.10/site-packages (from thinc<8.2.0,>=8.1.0->spacy<3.6.0,>=3.5.0->es-core-news-sm==3.5.0) (0.0.4)\r\n",
      "Requirement already satisfied: blis<0.8.0,>=0.7.8 in ./venv/lib/python3.10/site-packages (from thinc<8.2.0,>=8.1.0->spacy<3.6.0,>=3.5.0->es-core-news-sm==3.5.0) (0.7.9)\r\n",
      "Requirement already satisfied: click<9.0.0,>=7.1.1 in ./venv/lib/python3.10/site-packages (from typer<0.8.0,>=0.3.0->spacy<3.6.0,>=3.5.0->es-core-news-sm==3.5.0) (8.1.3)\r\n",
      "Requirement already satisfied: MarkupSafe>=2.0 in ./venv/lib/python3.10/site-packages (from jinja2->spacy<3.6.0,>=3.5.0->es-core-news-sm==3.5.0) (2.1.2)\r\n",
      "\r\n",
      "\u001B[1m[\u001B[0m\u001B[34;49mnotice\u001B[0m\u001B[1;39;49m]\u001B[0m\u001B[39;49m A new release of pip available: \u001B[0m\u001B[31;49m22.3.1\u001B[0m\u001B[39;49m -> \u001B[0m\u001B[32;49m23.0\u001B[0m\r\n",
      "\u001B[1m[\u001B[0m\u001B[34;49mnotice\u001B[0m\u001B[1;39;49m]\u001B[0m\u001B[39;49m To update, run: \u001B[0m\u001B[32;49mpip install --upgrade pip\u001B[0m\r\n",
      "\u001B[38;5;2m✔ Download and installation successful\u001B[0m\r\n",
      "You can now load the package via spacy.load('es_core_news_sm')\r\n"
     ]
    }
   ],
   "source": [
    "from typing import List\n",
    "\n",
    "import nltk\n",
    "from pandas import DataFrame\n",
    "import pandas as pd\n",
    "import spacy\n",
    "import re\n",
    "import openpyxl\n",
    "! python -m spacy download es_core_news_sm\n",
    "# ! python -m spacy download es_core_news_lg"
   ],
   "metadata": {
    "collapsed": false
   }
  },
  {
   "cell_type": "code",
   "execution_count": 272,
   "outputs": [],
   "source": [
    "def print_corpus(corpus: List[str]):\n",
    "    for i in range(len(corpus)):\n",
    "        text = corpus[i]\n",
    "        print()\n",
    "        print(f'\\033[1;32;40m {\"-\" * 10} Text: {str(i + 1)} {\"-\" * 10} \\033[0m')\n",
    "        print(text)"
   ],
   "metadata": {
    "collapsed": false
   }
  },
  {
   "cell_type": "code",
   "execution_count": 273,
   "outputs": [],
   "source": [
    "def colorize(text: str) -> str:\n",
    "    text = text.replace('$phone$', \"\\033[1;33;40m$phone$\\033[0m\")\n",
    "    text = text.replace('$person$', \"\\033[1;33;40m$person$\\033[0m\")\n",
    "    text = text.replace('$email$', \"\\033[1;33;40m$email$\\033[0m\")\n",
    "    return text"
   ],
   "metadata": {
    "collapsed": false
   }
  },
  {
   "cell_type": "code",
   "execution_count": 274,
   "outputs": [
    {
     "name": "stdout",
     "output_type": "stream",
     "text": [
      "\u001B[1;34;40m 0. Importar corpus \u001B[0m\n",
      "\n",
      "\u001B[1;32;40m ---------- Text: 1 ---------- \u001B[0m\n",
      "%18``La contraseña de mi correo no es aceptada ya es la segunda ocasión que se bloquea y no puedo ingresar  \n",
      "\n",
      "cel. 9911027120\n",
      "correo: miguel.gonzalez@correo.uady.mx``\n"
     ]
    }
   ],
   "source": [
    "print(\"\\033[1;34;40m 0. Importar corpus \\033[0m\")\n",
    "\n",
    "file: str = \"corpus_primer_parcial.xlsx\"\n",
    "df: DataFrame = pd.read_excel(file)\n",
    "the_corpus: List[str] = df.iloc[:, 0].tolist()\n",
    "the_corpus = [the_corpus[61]]\n",
    "print_corpus(the_corpus)"
   ],
   "metadata": {
    "collapsed": false
   }
  },
  {
   "cell_type": "code",
   "execution_count": 275,
   "outputs": [
    {
     "name": "stdout",
     "output_type": "stream",
     "text": [
      "\u001B[1;34;40m 1. Pasar a minúsculas todo el texto \u001B[0m\n",
      "\n",
      "\u001B[1;32;40m ---------- Text: 1 ---------- \u001B[0m\n",
      "%18``la contraseña de mi correo no es aceptada ya es la segunda ocasión que se bloquea y no puedo ingresar  \n",
      "\n",
      "cel. 9911027120\n",
      "correo: miguel.gonzalez@correo.uady.mx``\n"
     ]
    }
   ],
   "source": [
    "# Ejercicio 1\n",
    "print(\"\\033[1;34;40m 1. Pasar a minúsculas todo el texto \\033[0m\")\n",
    "\n",
    "\n",
    "def to_lower(text: str) -> str:\n",
    "    return text.lower()\n",
    "\n",
    "\n",
    "my_texts_lower = [to_lower(text) for text in the_corpus]\n",
    "print_corpus(my_texts_lower)"
   ],
   "metadata": {
    "collapsed": false
   }
  },
  {
   "cell_type": "code",
   "execution_count": 276,
   "outputs": [
    {
     "name": "stdout",
     "output_type": "stream",
     "text": [
      "\u001B[1;34;40m 2. Quitar los nombres propios que aparezcan y sustituirlos por una etiqueta llamada #Persona. \u001B[0m\n",
      "\n",
      "\u001B[1;34;40m \t2.1. Detectar nombres \u001B[0m\n",
      "\n",
      "\u001B[1;32;40m ---------- Text: 1 (Names) ---------- \u001B[0m\n",
      "set()\n",
      "\n",
      "\u001B[1;34;40m \t2.1. Reemplazar nombres \u001B[0m\n",
      "\n",
      "\u001B[1;32;40m ---------- Text: 1 ---------- \u001B[0m\n",
      "%18``La contraseña de mi correo no es aceptada ya es la segunda ocasión que se bloquea y no puedo ingresar  \n",
      "\n",
      "cel. 9911027120\n",
      "correo: miguel.gonzalez@correo.uady.mx``\n"
     ]
    }
   ],
   "source": [
    "# Ejercicio 2\n",
    "print(\n",
    "    \"\\033[1;34;40m 2. Quitar los nombres propios que aparezcan y sustituirlos por una etiqueta llamada #Persona. \\033[0m\")\n",
    "\n",
    "print()\n",
    "\n",
    "print(\"\\033[1;34;40m \\t2.1. Detectar nombres \\033[0m\")\n",
    "\n",
    "nlp = spacy.load(\"es_core_news_sm\")\n",
    "\n",
    "\n",
    "def fill_text(text: str) -> str:\n",
    "    # garantizar espacios en los paréntesis\n",
    "    text = re.sub(r'(\\S)\\(', r'\\1 (', text)\n",
    "    text = re.sub(r'\\)(\\S)', r') \\1', text)\n",
    "    # garantizar espacios en los guiones si es adyacente a una letra\n",
    "    # text = re.sub(r'-(\\w)', r'- \\1', text)\n",
    "    # text = re.sub(r'(\\w)-', r'\\1 -', text)\n",
    "    text = re.sub(r'(\\S)-', r'\\1 -', text)\n",
    "    text = re.sub(r'-(\\S)', r'- \\1', text)\n",
    "    # print(text)\n",
    "    return text\n",
    "\n",
    "\n",
    "def get_names(text: str):\n",
    "    result = set()\n",
    "    text = fill_text(text)\n",
    "    text_lines = text.splitlines()\n",
    "    for line in text_lines:\n",
    "        doc = nlp(line)\n",
    "        for ent in doc.ents:\n",
    "            if 'PER' == ent.label_:\n",
    "                result.add(ent.text)\n",
    "    return result\n",
    "\n",
    "\n",
    "def print_names(names):\n",
    "    for i in range(len(names)):\n",
    "        name = names[i]\n",
    "        print()\n",
    "        print(f'\\033[1;32;40m {\"-\" * 10} Text: {str(i + 1)} (Names) {\"-\" * 10} \\033[0m')\n",
    "        print(name)\n",
    "\n",
    "\n",
    "detected_names = []\n",
    "for text in the_corpus:\n",
    "    detected_names.append(get_names(text))\n",
    "print_names(detected_names)\n",
    "\n",
    "print()\n",
    "\n",
    "print(\"\\033[1;34;40m \\t2.1. Reemplazar nombres \\033[0m\")\n",
    "\n",
    "\n",
    "def replace_names(text: str, names=[]) -> str:\n",
    "    if 0 == len(names):\n",
    "        names = get_names(text)\n",
    "    for name in names:\n",
    "        text = text.replace(name, '$person$')\n",
    "    return text\n",
    "\n",
    "\n",
    "my_texts_no_names = []\n",
    "for i in range(len(the_corpus)):\n",
    "    text = the_corpus[i]\n",
    "    names = detected_names[i]\n",
    "    text = replace_names(text, names)\n",
    "    text = text.replace('$person$', \"\\033[1;33;40m$person$\\033[0m\")\n",
    "    my_texts_no_names.append(text)\n",
    "print_corpus(my_texts_no_names)"
   ],
   "metadata": {
    "collapsed": false
   }
  },
  {
   "cell_type": "code",
   "execution_count": 277,
   "outputs": [
    {
     "name": "stdout",
     "output_type": "stream",
     "text": [
      "\u001B[1;34;40m 3. Eliminar códigos que sean basura, ejemplo: %18``.\u001B[0m\n",
      "\n",
      "\u001B[1;32;40m ---------- Text: 1 ---------- \u001B[0m\n",
      "La contraseña de mi correo no es aceptada ya es la segunda ocasión que se bloquea y no puedo ingresar  \n",
      "\n",
      "cel. 9911027120\n",
      "correo: miguel.gonzalez@correo.uady.mx\n"
     ]
    }
   ],
   "source": [
    "# Ejercicio 3\n",
    "print(\"\\033[1;34;40m 3. Eliminar códigos que sean basura, ejemplo: %18``.\\033[0m\")\n",
    "\n",
    "\n",
    "def remove_garbage(text: str) -> str:\n",
    "    # garantizar espacios en los paréntesis\n",
    "    text = re.sub(r\"(`)\\1+\", '', text)\n",
    "    text = re.sub(r'(%\\d{2})', '', text)\n",
    "    return text\n",
    "\n",
    "\n",
    "my_texts_no_garbage = [remove_garbage(text) for text in the_corpus]\n",
    "print_corpus(my_texts_no_garbage)"
   ],
   "metadata": {
    "collapsed": false
   }
  },
  {
   "cell_type": "code",
   "execution_count": 278,
   "outputs": [
    {
     "name": "stdout",
     "output_type": "stream",
     "text": [
      "\u001B[1;34;40m 4. Eliminar números telefónicos y sustituirlos por #Teléfono.\u001B[0m\n",
      "\n",
      "\u001B[1;32;40m ---------- Text: 1 ---------- \u001B[0m\n",
      "%18``La contraseña de mi correo no es aceptada ya es la segunda ocasión que se bloquea y no puedo ingresar  \n",
      "\n",
      "cel. \u001B[1;33;40m$phone$\u001B[0m\n",
      "correo: miguel.gonzalez@correo.uady.mx``\n"
     ]
    }
   ],
   "source": [
    "# Ejercicio 4\n",
    "print(\"\\033[1;34;40m 4. Eliminar números telefónicos y sustituirlos por #Teléfono.\\033[0m\")\n",
    "\n",
    "\n",
    "def remove_phone_numbers(text: str) -> str:\n",
    "    return re.sub(r'([\\(\\s])\\d{10}([\\)\\s])', r'\\1$phone$\\2', text)\n",
    "\n",
    "\n",
    "my_texts_no_phone_numbers = []\n",
    "for text in the_corpus:\n",
    "    text = remove_phone_numbers(text)\n",
    "    text = text.replace('$phone$', \"\\033[1;33;40m$phone$\\033[0m\")\n",
    "    my_texts_no_phone_numbers.append(text)\n",
    "print_corpus(my_texts_no_phone_numbers)"
   ],
   "metadata": {
    "collapsed": false
   }
  },
  {
   "cell_type": "code",
   "execution_count": 279,
   "outputs": [
    {
     "name": "stdout",
     "output_type": "stream",
     "text": [
      "\u001B[1;34;40m 5. Eliminar correos electrónicos y sustituirlos por #Email.\u001B[0m\n",
      "\n",
      "\u001B[1;32;40m ---------- Text: 1 ---------- \u001B[0m\n",
      "%18``La contraseña de mi correo no es aceptada ya es la segunda ocasión que se bloquea y no puedo ingresar  \n",
      "\n",
      "cel. 9911027120\n",
      "correo: \u001B[1;33;40m$email$\u001B[0m``\n"
     ]
    }
   ],
   "source": [
    "# Ejercicio 5\n",
    "print(\"\\033[1;34;40m 5. Eliminar correos electrónicos y sustituirlos por #Email.\\033[0m\")\n",
    "\n",
    "\n",
    "def remove_emails(text: str) -> str:\n",
    "    return re.sub(r'([\\w\\.-]+@[\\w\\.-]+)', r'$email$', text)\n",
    "\n",
    "\n",
    "my_texts_no_emails = []\n",
    "for text in the_corpus:\n",
    "    text = remove_emails(text)\n",
    "    text = text.replace('$email$', \"\\033[1;33;40m$email$\\033[0m\")\n",
    "    my_texts_no_emails.append(text)\n",
    "print_corpus(my_texts_no_emails)"
   ],
   "metadata": {
    "collapsed": false
   }
  },
  {
   "cell_type": "code",
   "execution_count": 280,
   "outputs": [
    {
     "name": "stdout",
     "output_type": "stream",
     "text": [
      "\u001B[1;34;40m Análisis completo \u001B[0m\n",
      "\n",
      "\u001B[1;32;40m ---------- Text: 1 ---------- \u001B[0m\n",
      "\n",
      "\u001B[1;35;40m Original: \u001B[0m\n",
      "%18``La contraseña de mi correo no es aceptada ya es la segunda ocasión que se bloquea y no puedo ingresar  \n",
      "\n",
      "cel. 9911027120\n",
      "correo: miguel.gonzalez@correo.uady.mx``\n",
      "\n",
      "\u001B[1;35;40m Garbage Removed: \u001B[0m\n",
      "La contraseña de mi correo no es aceptada ya es la segunda ocasión que se bloquea y no puedo ingresar  \n",
      "\n",
      "cel. 9911027120\n",
      "correo: miguel.gonzalez@correo.uady.mx\n",
      "\n",
      "\u001B[1;35;40m Phones Removed: \u001B[0m\n",
      "La contraseña de mi correo no es aceptada ya es la segunda ocasión que se bloquea y no puedo ingresar  \n",
      "\n",
      "cel. \u001B[1;33;40m$phone$\u001B[0m\n",
      "correo: miguel.gonzalez@correo.uady.mx\n",
      "\n",
      "\u001B[1;35;40m Emails Removed: \u001B[0m\n",
      "La contraseña de mi correo no es aceptada ya es la segunda ocasión que se bloquea y no puedo ingresar  \n",
      "\n",
      "cel. \u001B[1;33;40m$phone$\u001B[0m\n",
      "correo: \u001B[1;33;40m$email$\u001B[0m\n",
      "\n",
      "\u001B[1;35;40m Names Removed: \u001B[0m\n",
      "La contraseña de mi correo no es aceptada ya es la segunda ocasión que se bloquea y no puedo ingresar  \n",
      "\n",
      "cel. \u001B[1;33;40m$phone$\u001B[0m\n",
      "correo: \u001B[1;33;40m$email$\u001B[0m\n",
      "\n",
      "\u001B[1;35;40m Lower: \u001B[0m\n",
      "la contraseña de mi correo no es aceptada ya es la segunda ocasión que se bloquea y no puedo ingresar  \n",
      "\n",
      "cel. \u001B[1;33;40m$phone$\u001B[0m\n",
      "correo: \u001B[1;33;40m$email$\u001B[0m\n",
      "\n"
     ]
    }
   ],
   "source": [
    "# Análisis completo\n",
    "print(\"\\033[1;34;40m Análisis completo \\033[0m\")\n",
    "\n",
    "for i in range(len(the_corpus)):\n",
    "    text = the_corpus[i]\n",
    "    print()\n",
    "    print(f'\\033[1;32;40m {\"-\" * 10} Text: {str(i + 1)} {\"-\" * 10} \\033[0m')\n",
    "    print()\n",
    "    print(\"\\033[1;35;40m Original: \\033[0m\")\n",
    "    print(text)\n",
    "    print()\n",
    "    print(\"\\033[1;35;40m Garbage Removed: \\033[0m\")\n",
    "    text = remove_garbage(text)\n",
    "    print(text)\n",
    "    print()\n",
    "    print(\"\\033[1;35;40m Phones Removed: \\033[0m\")\n",
    "    text = remove_phone_numbers(text)\n",
    "    print(colorize(text))\n",
    "    print()\n",
    "    print(\"\\033[1;35;40m Emails Removed: \\033[0m\")\n",
    "    text = remove_emails(text)\n",
    "    print(colorize(text))\n",
    "    print()\n",
    "    print(\"\\033[1;35;40m Names Removed: \\033[0m\")\n",
    "    text = replace_names(text)\n",
    "    print(colorize(text))\n",
    "    print()\n",
    "    print(\"\\033[1;35;40m Lower: \\033[0m\")\n",
    "    text = to_lower(text)\n",
    "    print(colorize(text))\n",
    "    print()"
   ],
   "metadata": {
    "collapsed": false
   }
  },
  {
   "cell_type": "code",
   "execution_count": 280,
   "outputs": [],
   "source": [],
   "metadata": {
    "collapsed": false
   }
  }
 ],
 "metadata": {
  "kernelspec": {
   "display_name": "Python 3",
   "language": "python",
   "name": "python3"
  },
  "language_info": {
   "codemirror_mode": {
    "name": "ipython",
    "version": 2
   },
   "file_extension": ".py",
   "mimetype": "text/x-python",
   "name": "python",
   "nbconvert_exporter": "python",
   "pygments_lexer": "ipython2",
   "version": "2.7.6"
  }
 },
 "nbformat": 4,
 "nbformat_minor": 0
}
