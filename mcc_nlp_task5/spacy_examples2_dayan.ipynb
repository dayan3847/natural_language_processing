{
 "cells": [
  {
   "cell_type": "code",
   "execution_count": 6,
   "outputs": [],
   "source": [
    "from spacy.lang.es import Spanish\n",
    "\n",
    "nlp = Spanish()\n"
   ],
   "metadata": {
    "collapsed": false
   }
  },
  {
   "cell_type": "code",
   "execution_count": 7,
   "outputs": [
    {
     "name": "stdout",
     "output_type": "stream",
     "text": [
      "Index\tText\t\tis_alpha\tis_punct\tlike_num\n",
      "0\t\tLa\t\t\tTrue\t\tFalse\t\tFalse\n",
      "1\t\tclase\t\tTrue\t\tFalse\t\tFalse\n",
      "2\t\tde\t\t\tTrue\t\tFalse\t\tFalse\n",
      "3\t\tNLP\t\t\tTrue\t\tFalse\t\tFalse\n",
      "4\t\tes\t\t\tTrue\t\tFalse\t\tFalse\n",
      "5\t\ta\t\t\tTrue\t\tFalse\t\tFalse\n",
      "6\t\tlas\t\t\tTrue\t\tFalse\t\tFalse\n",
      "7\t\t3\t\t\tFalse\t\tFalse\t\tTrue\n",
      "8\t\tde\t\t\tTrue\t\tFalse\t\tFalse\n",
      "9\t\tla\t\t\tTrue\t\tFalse\t\tFalse\n",
      "10\t\ttarde\t\tTrue\t\tFalse\t\tFalse\n",
      "11\t\t.\t\t\tFalse\t\tTrue\t\tFalse\n"
     ]
    }
   ],
   "source": [
    "doc = nlp('La clase de NLP es a las 3 de la tarde.')\n",
    "\n",
    "print('Index', 'Text\\t', 'is_alpha', 'is_punct', 'like_num', sep='\\t')\n",
    "for token in doc:\n",
    "    separator = '' if 4 <= len(token.text) else '\\t'\n",
    "    print(token.i, token.text + separator, token.is_alpha, token.is_punct, token.like_num, sep='\\t\\t')\n"
   ],
   "metadata": {
    "collapsed": false
   }
  }
 ],
 "metadata": {
  "kernelspec": {
   "display_name": "Python 3",
   "language": "python",
   "name": "python3"
  },
  "language_info": {
   "codemirror_mode": {
    "name": "ipython",
    "version": 2
   },
   "file_extension": ".py",
   "mimetype": "text/x-python",
   "name": "python",
   "nbconvert_exporter": "python",
   "pygments_lexer": "ipython2",
   "version": "2.7.6"
  }
 },
 "nbformat": 4,
 "nbformat_minor": 0
}
