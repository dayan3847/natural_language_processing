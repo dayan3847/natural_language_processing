{
 "cells": [
  {
   "cell_type": "code",
   "execution_count": null,
   "outputs": [],
   "source": [
    "! python -m spacy download es_core_news_sm"
   ],
   "metadata": {
    "collapsed": false
   }
  },
  {
   "cell_type": "code",
   "execution_count": 21,
   "outputs": [],
   "source": [
    "import spacy\n",
    "\n",
    "nlp = spacy.load('es_core_news_sm')\n"
   ],
   "metadata": {
    "collapsed": false
   }
  },
  {
   "cell_type": "code",
   "execution_count": 22,
   "outputs": [
    {
     "name": "stdout",
     "output_type": "stream",
     "text": [
      "text\t\t\tpos_\tdep_\n",
      "El\t\t\t\tDET\t\tdet\n",
      "parámetro\t\tNOUN\t\tnsubj\n",
      "fue\t\t\t\tAUX\t\taux\n",
      "estimado\t\tVERB\t\tROOT\n",
      "en\t\t\t\tADP\t\tconj\n",
      "47\t\t\t\tNUM\t\tROOT\n"
     ]
    }
   ],
   "source": [
    "doc = nlp('El parámetro fue estimado en 47')\n",
    "\n",
    "print('text\\t\\t', 'pos_', 'dep_', sep='\\t')\n",
    "for token in doc:\n",
    "    s1 = '' if 8 <= len(token.text) else '\\t' if 4 <= len(token.text) else '\\t\\t'\n",
    "    print(token.text + s1, token.pos_, token.dep_, sep='\\t\\t')\n"
   ],
   "metadata": {
    "collapsed": false
   }
  }
 ],
 "metadata": {
  "kernelspec": {
   "display_name": "Python 3",
   "language": "python",
   "name": "python3"
  },
  "language_info": {
   "codemirror_mode": {
    "name": "ipython",
    "version": 2
   },
   "file_extension": ".py",
   "mimetype": "text/x-python",
   "name": "python",
   "nbconvert_exporter": "python",
   "pygments_lexer": "ipython2",
   "version": "2.7.6"
  }
 },
 "nbformat": 4,
 "nbformat_minor": 0
}
