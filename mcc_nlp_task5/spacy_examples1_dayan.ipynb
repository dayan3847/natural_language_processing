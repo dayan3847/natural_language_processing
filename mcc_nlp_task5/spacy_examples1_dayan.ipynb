{
 "nbformat": 4,
 "nbformat_minor": 0,
 "metadata": {
  "colab": {
   "provenance": [],
   "authorship_tag": "ABX9TyNtAFYd5KTFgD05AXmge/La"
  },
  "kernelspec": {
   "name": "python3",
   "display_name": "Python 3"
  },
  "language_info": {
   "name": "python"
  }
 },
 "cells": [
  {
   "cell_type": "code",
   "source": [
    "# ! python -m spacy download es_core_news_sm\n",
    "# ! python -m spacy download es_dep_news_trf\n",
    "# ! python -m spacy download en_core_web_md"
   ],
   "metadata": {
    "colab": {
     "base_uri": "https://localhost:8080/"
    },
    "id": "TsH3kN8gFwbp",
    "executionInfo": {
     "status": "ok",
     "timestamp": 1675126234056,
     "user_tz": 360,
     "elapsed": 8123,
     "user": {
      "displayName": "Dayan Bravo Fraga",
      "userId": "05762651316564612225"
     }
    },
    "outputId": "0fe7525a-e006-4f73-ba00-335963608941"
   },
   "execution_count": 36,
   "outputs": [
    {
     "output_type": "stream",
     "name": "stdout",
     "text": [
      "/usr/local/lib/python3.8/dist-packages/torch/cuda/__init__.py:497: UserWarning: Can't initialize NVML\n",
      "  warnings.warn(\"Can't initialize NVML\")\n",
      "2023-01-31 00:50:31.676249: E tensorflow/stream_executor/cuda/cuda_driver.cc:271] failed call to cuInit: CUDA_ERROR_NO_DEVICE: no CUDA-capable device is detected\n",
      "\n",
      "\u001B[38;5;1m✘ No compatible package found for 'es_core_web_md' (spaCy v3.4.4)\u001B[0m\n",
      "\n"
     ]
    }
   ]
  },
  {
   "cell_type": "code",
   "execution_count": 27,
   "metadata": {
    "id": "4uuMHpW_D-Zt",
    "executionInfo": {
     "status": "ok",
     "timestamp": 1675124414077,
     "user_tz": 360,
     "elapsed": 212,
     "user": {
      "displayName": "Dayan Bravo Fraga",
      "userId": "05762651316564612225"
     }
    }
   },
   "outputs": [],
   "source": [
    "import spacy\n"
   ]
  },
  {
   "cell_type": "code",
   "source": [
    "text = \"\\\n",
    "Minuta No. 3.- Monitoreo de Servicios de TI Junio 2019\\n\\\n",
    "Dependencia: Coordinación General de Tecnologías de Información y Comunicación\\n\\\n",
    "Participantes\\n\\\n",
    "1.- Baas Chan Sharon Francelli(sharon.baas)\\n\\\n",
    "2.- Cervera Piña Marco Antonio\\n\\\n",
    "3.- Díaz Novelo Carmen H. de Jesús\\n\\\n",
    "Orden del Día\\n\\\n",
    "Proxima Reunión\\n\\\n",
    "\\\n",
    "Acuerdo: Se solicita su apoyo para el monitoreo de los servicios de Directorio Activo, DHCP, DNS, SCCM\\n\\\n",
    "Minuta No. 2.- Seguimiento actividades de la de Unidad de Seguridad Perimetral y VPNs (Junio 2019)\\n\\\n",
    "Dependencia: Coordinación General de Tecnologías de Información y Comunicación\\n\\\n",
    "Participantes\\n\\\n",
    "1.- López Tun Laura Guadalupe(laura.tun)\\n\\\n",
    "2.- Pérez Segura Wilberth de Jesús\\n\\\n",
    "3.- Novelo Zel Israel Josué\\n\\\n",
    "4.- García Morales Nicolás\\n\\\n",
    "Orden del Día\\n\\\n",
    "Proxima Reunión\\n\\\n",
    "\\\n",
    "Acuerdo: De: Wilberth Pérez <wilberth.perez@correo.uady.mx>\\n\\\n",
    "Enviado el: miércoles, 5 de junio de 2019 08:59 a. m.\\n\\\n",
    "Para: Nicolás García Morales <gmorales@correo.uady.mx>; Laura Guadalupe López Tun <laura.tun@correo.uady.mx>\\n\\\n",
    "CC: Israel Novelo Zel <inzel@correo.uady.mx>\\n\\\n",
    "Asunto: Fw: ****Ana Angélica Uitz Mena [ SERVICIO-20190605-081744-0000184583]\\n\\\n",
    "\\\n",
    "Nicolas:\\n\\\n",
    "\\\n",
    "Porfavor como te comenté hace un momento, apoyanos dando seguimiento inicial a este reporte.\\n\\\n",
    "\\\n",
    "Requerimos un diagnóstico inicial:\\n\\\n",
    "\\\n",
    "¿cual es el sitio que presenta problemas?\\n\\\n",
    "¿esta operando correctamente la resolución DNS?\\n\\\n",
    "¿estan OK los enlaces de Internet conectados en el IPS?\\n\\\n",
    "\\\n",
    "Ya tienes acceso al IPS de la CGS, para poder dar seguimiento a este apoyo:\\n\\\n",
    "\\\n",
    "https://siu-cgs.uady.mx:4443\\n\\\n",
    "\\\n",
    "Gracias por el apoyo.\\n\\\n",
    "\\\n",
    "Wilberth.\\\n",
    "\"\n"
   ],
   "metadata": {
    "id": "Goj6mqquM6Rk",
    "executionInfo": {
     "status": "ok",
     "timestamp": 1675124522669,
     "user_tz": 360,
     "elapsed": 157,
     "user": {
      "displayName": "Dayan Bravo Fraga",
      "userId": "05762651316564612225"
     }
    }
   },
   "execution_count": 29,
   "outputs": []
  },
  {
   "cell_type": "code",
   "source": [
    "es_core_news_sm = spacy.load(\"es_core_news_sm\")\n",
    "\n",
    "result = es_core_news_sm(text)\n",
    "\n",
    "entities = result.ents\n",
    "\n",
    "text2 = text\n",
    "for e in entities:\n",
    "  print (e.text)\n",
    "  text2 = text2.replace(e.text, '#####')\n",
    "\n",
    "print('--------------Texto anonimo-------------------')\n",
    "print(text2)"
   ],
   "metadata": {
    "id": "_SqvJaW8KoUC"
   },
   "execution_count": null,
   "outputs": []
  },
  {
   "cell_type": "code",
   "source": [
    "import spacy_transformers\n",
    "\n",
    "es_dep_news_trf = spacy.load(\"es_dep_news_trf\")\n",
    "result = es_dep_news_trf(text)\n",
    "\n",
    "#print (result)\n",
    "\n",
    "entities = result.ents\n",
    "\n",
    "for e in entities:\n",
    "  print (e)"
   ],
   "metadata": {
    "id": "syg3q1vaGNU1",
    "executionInfo": {
     "status": "ok",
     "timestamp": 1675124559641,
     "user_tz": 360,
     "elapsed": 5389,
     "user": {
      "displayName": "Dayan Bravo Fraga",
      "userId": "05762651316564612225"
     }
    }
   },
   "execution_count": 31,
   "outputs": []
  },
  {
   "cell_type": "code",
   "source": [
    "nlp = spacy.load(\"en_core_web_md\")\n",
    "tokens = nlp(\"hello my name is Lolo\")\n",
    "for token in tokens:\n",
    "    print(token.text, token.has_vector, token.vector_norm, token.is_oov)\n"
   ],
   "metadata": {
    "colab": {
     "base_uri": "https://localhost:8080/"
    },
    "id": "LfmaXqmiRg_f",
    "executionInfo": {
     "status": "ok",
     "timestamp": 1675126316359,
     "user_tz": 360,
     "elapsed": 2101,
     "user": {
      "displayName": "Dayan Bravo Fraga",
      "userId": "05762651316564612225"
     }
    },
    "outputId": "16646319-4ee5-4862-9bd8-634bcbcfbc1c"
   },
   "execution_count": 39,
   "outputs": [
    {
     "output_type": "stream",
     "name": "stdout",
     "text": [
      "hello True 30.334286 False\n",
      "my True 119.36358 False\n",
      "name True 69.42082 False\n",
      "is True 110.41255 False\n",
      "Lolo True 22.40736 False\n"
     ]
    }
   ]
  }
 ]
}
