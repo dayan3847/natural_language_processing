{
 "cells": [
  {
   "cell_type": "code",
   "execution_count": 1,
   "id": "c16ba87c",
   "metadata": {},
   "outputs": [],
   "source": [
    "import networkx as nx\n",
    "import nltk\n",
    "from operator import itemgetter\n",
    "import xlrd\n",
    "import spacy\n",
    "import string \n",
    "import os\n",
    "import matplotlib.pyplot as plt\n",
    "import requests\n",
    "\n",
    "nlp = spacy.load('es_core_news_sm')"
   ]
  },
  {
   "cell_type": "code",
   "execution_count": 2,
   "id": "87efd0c9",
   "metadata": {},
   "outputs": [],
   "source": [
    "def ConstruyeGrafos():\n",
    "    lista_grafos = []\n",
    "    nombre_archivo = \"corpus/NAP.xls\"\n",
    "    libro = xlrd.open_workbook(nombre_archivo)\n",
    "    hoja = libro.sheet_by_index(0)\n",
    "    GrafoFrec = nx.Graph()\n",
    "    GrafoTiempo = nx.Graph()\n",
    "    GrafoAsoc = nx.Graph()\n",
    "    num_filas = hoja.nrows\n",
    "    estimulo = ''\n",
    "    lema = ''\n",
    "    frecuencia = 0\n",
    "    tiempo = 0\n",
    "    asociacion = 0\n",
    "    for fila in range(0,num_filas-1):\n",
    "        celda = hoja.cell(fila,0)\n",
    "        cadena = celda.value\n",
    "        if cadena == '--PALABRAS--':\n",
    "            continue\n",
    "        elif cadena == '======':\n",
    "            estimulo = hoja.cell(fila+1,4).value\n",
    "        elif cadena == '' or cadena == '*':\n",
    "            continue\n",
    "        elif hoja.cell(fila,2).value == '':\n",
    "            continue\n",
    "        else:\n",
    "            frecuencia = hoja.cell(fila,1).value\n",
    "            tiempo = hoja.cell(fila,2).value\n",
    "            asociacion = hoja.cell(fila,3).value\n",
    "            palabra = hoja.cell(fila,4).value\n",
    "            estimulo = estimulo.strip()\n",
    "            lema = str(palabra)\n",
    "            lema = lema.strip()\n",
    "            if estimulo != '' and lema != '':\n",
    "                GrafoFrec.add_edge(estimulo,lema,weight=1/float(frecuencia))\n",
    "                GrafoTiempo.add_edge(estimulo,lema,weight=float(tiempo))\n",
    "                GrafoAsoc.add_edge(estimulo,lema,weight=100-float(asociacion))\n",
    "    lista_grafos.append(GrafoFrec)\n",
    "    lista_grafos.append(GrafoTiempo)        \n",
    "    lista_grafos.append(GrafoAsoc) \n",
    "    #print(GrafoFrec.edges)\n",
    "    return lista_grafos"
   ]
  },
  {
   "cell_type": "code",
   "execution_count": 3,
   "id": "5c40ac37",
   "metadata": {},
   "outputs": [
    {
     "data": {
      "text/plain": [
       "[<networkx.classes.graph.Graph at 0x25abaa9bac0>,\n",
       " <networkx.classes.graph.Graph at 0x25ade3e76d0>,\n",
       " <networkx.classes.graph.Graph at 0x25ade3e7700>]"
      ]
     },
     "execution_count": 3,
     "metadata": {},
     "output_type": "execute_result"
    }
   ],
   "source": [
    "ConstruyeGrafos()"
   ]
  },
  {
   "cell_type": "code",
   "execution_count": 4,
   "id": "74420a11",
   "metadata": {},
   "outputs": [],
   "source": [
    "def limpia_lematiza(cadena):\n",
    "    limpiado = ''\n",
    "    palabras_funcionales = nltk.corpus.stopwords.words('spanish')\n",
    "    for c in string.punctuation:\n",
    "        cadena = cadena.replace(c,\"\")\n",
    "    cadena = cadena.strip()\n",
    "    for palabra in cadena.split(\" \"):\n",
    "        if palabra not in palabras_funcionales:\n",
    "            #doc = nlp(palabra)\n",
    "            #limpiado += doc[0].lemma_+ \" \" \n",
    "            limpiado += palabra + \" \"\n",
    "    return limpiado"
   ]
  },
  {
   "cell_type": "code",
   "execution_count": 5,
   "id": "7e2b8dc3",
   "metadata": {},
   "outputs": [
    {
     "data": {
      "text/plain": [
       "'obreras pequeñitas '"
      ]
     },
     "execution_count": 5,
     "metadata": {},
     "output_type": "execute_result"
    }
   ],
   "source": [
    "limpia_lematiza(\"obreras pequeñitas\")"
   ]
  },
  {
   "cell_type": "code",
   "execution_count": 6,
   "id": "9057dd89",
   "metadata": {},
   "outputs": [],
   "source": [
    "def conceptos(lista,subconjunto):\n",
    "    datos = []\n",
    "    if len(lista) <= 100:\n",
    "        tope = len(lista)\n",
    "    else:\n",
    "        tope = 100\n",
    "    for x in range(0,tope):\n",
    "        if str(lista[x][0]) not in subconjunto and float(lista[x][1]) > 0:\n",
    "            datos.append(str(lista[x][0]))\n",
    "    return datos"
   ]
  },
  {
   "cell_type": "code",
   "execution_count": 7,
   "id": "e25c5826",
   "metadata": {},
   "outputs": [],
   "source": [
    "def diccionario_nap(definicion):\n",
    "    grafo = ConstruyeGrafos()\n",
    "    grafo_frec = grafo[0]\n",
    "    grafo_tiempo = grafo[1]\n",
    "    grafo_asoc = grafo[2]\n",
    "    texto = limpia_lematiza(definicion) \n",
    "    texto = texto.lower()\n",
    "    tokens = texto.split(\" \")\n",
    "    subconjunto_lemas = []\n",
    "    for palabra in tokens:\n",
    "        if palabra in grafo_asoc.nodes() and palabra != '':\n",
    "            subconjunto_lemas.append(palabra)\n",
    "    if len(subconjunto_lemas) > 0:\n",
    "        resultados_asociacion = nx.betweenness_centrality_subset(grafo_asoc,subconjunto_lemas,subconjunto_lemas,normalized=True,weight=\"weight\")\n",
    "        encontrados = sorted(resultados_asociacion.items(),key=itemgetter(1),reverse=True)[0:99]\n",
    "        print(\"Asociación\")\n",
    "        print(conceptos(encontrados,subconjunto_lemas))  \n",
    "        \n",
    "        resultados_frecuencia = nx.betweenness_centrality_subset(grafo_frec,subconjunto_lemas,subconjunto_lemas,normalized=True,weight=\"weight\")\n",
    "        encontrados = sorted(resultados_frecuencia.items(),key=itemgetter(1),reverse=True)[0:99]\n",
    "        print(\"Frecuencia\")\n",
    "        print(conceptos(encontrados,subconjunto_lemas)) \n",
    "        \n",
    "        resultados_tiempo = nx.betweenness_centrality_subset(grafo_tiempo,subconjunto_lemas,subconjunto_lemas,normalized=True,weight=\"weight\")\n",
    "        encontrados = sorted(resultados_tiempo.items(),key=itemgetter(1),reverse=True)[0:99]\n",
    "        print(\"Tiempo\")\n",
    "        print(conceptos(encontrados,subconjunto_lemas)) \n",
    "        \n",
    "    return"
   ]
  },
  {
   "cell_type": "code",
   "execution_count": 9,
   "id": "60ad8690",
   "metadata": {},
   "outputs": [
    {
     "data": {
      "text/plain": [
       "[<networkx.classes.graph.Graph at 0x25abaa9b160>,\n",
       " <networkx.classes.graph.Graph at 0x25ae35285b0>,\n",
       " <networkx.classes.graph.Graph at 0x25ae35286a0>]"
      ]
     },
     "execution_count": 9,
     "metadata": {},
     "output_type": "execute_result"
    }
   ],
   "source": [
    "ConstruyeGrafos()"
   ]
  },
  {
   "cell_type": "code",
   "execution_count": 14,
   "id": "582f44c2",
   "metadata": {},
   "outputs": [
    {
     "name": "stdout",
     "output_type": "stream",
     "text": [
      "Asociación\n",
      "['mano', 'lavadora', 'lavabo']\n",
      "Frecuencia\n",
      "['mano', 'lavabo', 'jabón', 'lavadora']\n",
      "Tiempo\n",
      "['ba_t', 'fuego', 'palo', 'guante', 'lavadora', 'cocina']\n"
     ]
    }
   ],
   "source": [
    "diccionario_nap(\"El aparato doméstico para lavar ropa\")"
   ]
  },
  {
   "cell_type": "code",
   "execution_count": 10,
   "id": "92c68406",
   "metadata": {},
   "outputs": [],
   "source": [
    "def precision(k,arreglo,concepto):\n",
    "    tope = k\n",
    "    encontrado = 0\n",
    "    if k>len(arreglo):\n",
    "        tope = len(arreglo)\n",
    "    for i in range(0,tope):\n",
    "        if arreglo[i] == concepto.strip():\n",
    "            encontrado = 1\n",
    "    return encontrado"
   ]
  },
  {
   "cell_type": "code",
   "execution_count": 15,
   "id": "faccb439",
   "metadata": {},
   "outputs": [],
   "source": [
    "def diccionario_btc(grafo,definicion):\n",
    "    texto = limpia_lematiza(definicion) \n",
    "    texto = texto.lower()\n",
    "    tokens = texto.split(\" \")\n",
    "    subconjunto_lemas = []\n",
    "    for palabra in tokens:\n",
    "        if palabra in grafo.nodes() and palabra != '':\n",
    "            subconjunto_lemas.append(palabra)\n",
    "    if len(subconjunto_lemas) > 0:\n",
    "        resultados = nx.betweenness_centrality_subset(grafo,subconjunto_lemas,subconjunto_lemas,normalized=True,weight=\"weight\")\n",
    "        encontrados = sorted(resultados.items(),key=itemgetter(1),reverse=True)[0:99]\n",
    "        return conceptos(encontrados,subconjunto_lemas)\n",
    "    else: \n",
    "        return []"
   ]
  },
  {
   "cell_type": "code",
   "execution_count": 12,
   "id": "13b3a829",
   "metadata": {},
   "outputs": [],
   "source": [
    "def rendimiento_mdbl_btc():\n",
    "    grafo = ConstruyeGrafos()\n",
    "    grafo_frec = grafo[0]\n",
    "    grafo_tiempo = grafo[1]\n",
    "    grafo_asoc = grafo[2]\n",
    "    \n",
    "    p_1_t = p_1_f = p_1_a = 0\n",
    "    p_3_t = p_3_f = p_3_a = 0\n",
    "    p_5_t = p_5_f = p_5_a = 0\n",
    "    total = 0\n",
    "    \n",
    "    directorio = \"C:\\\\Users\\\\jorge.reyes\\\\Dropbox\\\\FMAT\\\\Agosto - Diciembre 2021\\\\PLN\\\\definiciones freeling\\\\\"\n",
    "    for archivo in os.listdir(directorio):\n",
    "        datos = open(directorio+archivo,encoding = \"utf8\")\n",
    "        lineas = datos.readlines()\n",
    "        concepto = str(lineas[0]).lower()\n",
    "        for linea in lineas[1:]:\n",
    "            if linea.strip() != '':\n",
    "                total += 1\n",
    "                candidatos = diccionario_btc(grafo_asoc,linea)\n",
    "                #print(candidatos,concepto)\n",
    "                p_1_a += precision(1,candidatos,concepto)\n",
    "                p_3_a += precision(3,candidatos,concepto)\n",
    "                p_5_a += precision(5,candidatos,concepto)\n",
    "                candidatos = diccionario_btc(grafo_frec,linea)\n",
    "                #print(candidatos,concepto)\n",
    "                p_1_f += precision(1,candidatos,concepto)\n",
    "                p_3_f += precision(3,candidatos,concepto)\n",
    "                p_5_f += precision(5,candidatos,concepto)\n",
    "                candidatos = diccionario_btc(grafo_tiempo,linea)\n",
    "                #print(candidatos,concepto)\n",
    "                p_1_t += precision(1,candidatos,concepto)\n",
    "                p_3_t += precision(3,candidatos,concepto)\n",
    "                p_5_t += precision(5,candidatos,concepto)\n",
    "                #input()\n",
    "        datos.close()\n",
    "    print(\"Asociacion\")\n",
    "    print(\"p@1:\",p_1_a/total,\"p@3:\",p_3_a/total,\"p@5\",p_5_a/total)\n",
    "    print(\"Frecuencia\")\n",
    "    print(\"p@1:\",p_1_f/total,\"p@3:\",p_3_f/total,\"p@5\",p_5_f/total)\n",
    "    print(\"Tiempo\")\n",
    "    print(\"p@1:\",p_1_t/total,\"p@3:\",p_3_t/total,\"p@5\",p_5_t/total)\n",
    "    return"
   ]
  },
  {
   "cell_type": "code",
   "execution_count": 16,
   "id": "c85cb457",
   "metadata": {},
   "outputs": [
    {
     "name": "stdout",
     "output_type": "stream",
     "text": [
      "Asociacion\n",
      "p@1: 0.3333333333333333 p@3: 0.5144927536231884 p@5 0.5398550724637681\n",
      "Frecuencia\n",
      "p@1: 0.2826086956521739 p@3: 0.42028985507246375 p@5 0.463768115942029\n",
      "Tiempo\n",
      "p@1: 0.17028985507246377 p@3: 0.3188405797101449 p@5 0.36231884057971014\n"
     ]
    }
   ],
   "source": [
    "rendimiento_mdbl_btc()"
   ]
  },
  {
   "cell_type": "code",
   "execution_count": 40,
   "id": "929aa00f",
   "metadata": {},
   "outputs": [],
   "source": [
    "def rendimiento_mdbl_pr():\n",
    "    grafo = ConstruyeGrafos()\n",
    "    grafo_frec = grafo[0]\n",
    "    grafo_tiempo = grafo[1]\n",
    "    grafo_asoc = grafo[2]\n",
    "    \n",
    "    p_1_t = p_1_f = p_1_a = 0\n",
    "    p_3_t = p_3_f = p_3_a = 0\n",
    "    p_5_t = p_5_f = p_5_a = 0\n",
    "    total = 0\n",
    "    \n",
    "    directorio = \"C:\\\\Users\\\\jorge.reyes\\\\Dropbox\\\\FMAT\\\\Agosto - Diciembre 2021\\\\PLN\\\\definiciones freeling\\\\\"\n",
    "    for archivo in os.listdir(directorio):\n",
    "        datos = open(directorio+archivo,encoding = \"utf8\")\n",
    "        lineas = datos.readlines()\n",
    "        concepto = str(lineas[0]).lower()\n",
    "        for linea in lineas[1:]:\n",
    "            if linea.strip() != '':\n",
    "                total += 1\n",
    "                candidatos = diccionario_pr(grafo_asoc,linea)\n",
    "                #print(candidatos,concepto)\n",
    "                p_1_a += precision(1,candidatos,concepto)\n",
    "                p_3_a += precision(3,candidatos,concepto)\n",
    "                p_5_a += precision(5,candidatos,concepto)\n",
    "                candidatos = diccionario_pr(grafo_frec,linea)\n",
    "                #print(candidatos,concepto)\n",
    "                p_1_f += precision(1,candidatos,concepto)\n",
    "                p_3_f += precision(3,candidatos,concepto)\n",
    "                p_5_f += precision(5,candidatos,concepto)\n",
    "                candidatos = diccionario_pr(grafo_tiempo,linea)\n",
    "                #print(candidatos,concepto)\n",
    "                p_1_t += precision(1,candidatos,concepto)\n",
    "                p_3_t += precision(3,candidatos,concepto)\n",
    "                p_5_t += precision(5,candidatos,concepto)\n",
    "                #input()\n",
    "        datos.close()\n",
    "    print(\"Asociacion\")\n",
    "    print(\"p@1:\",p_1_a/total,\"p@3:\",p_3_a/total,\"p@5\",p_5_a/total)\n",
    "    print(\"Frecuencia\")\n",
    "    print(\"p@1:\",p_1_f/total,\"p@3:\",p_3_f/total,\"p@5\",p_5_f/total)\n",
    "    print(\"Tiempo\")\n",
    "    print(\"p@1:\",p_1_t/total,\"p@3:\",p_3_t/total,\"p@5\",p_5_t/total)\n",
    "    return"
   ]
  },
  {
   "cell_type": "code",
   "execution_count": 41,
   "id": "b95d3ed0",
   "metadata": {},
   "outputs": [
    {
     "name": "stdout",
     "output_type": "stream",
     "text": [
      "Asociacion\n",
      "p@1: 0.14130434782608695 p@3: 0.30434782608695654 p@5 0.39492753623188404\n",
      "Frecuencia\n",
      "p@1: 0.07971014492753623 p@3: 0.2210144927536232 p@5 0.322463768115942\n",
      "Tiempo\n",
      "p@1: 0.15579710144927536 p@3: 0.3007246376811594 p@5 0.39492753623188404\n"
     ]
    }
   ],
   "source": [
    "rendimiento_mdbl_pr()"
   ]
  },
  {
   "cell_type": "code",
   "execution_count": null,
   "id": "79b3fb37",
   "metadata": {},
   "outputs": [],
   "source": []
  }
 ],
 "metadata": {
  "kernelspec": {
   "display_name": "Python 3",
   "language": "python",
   "name": "python3"
  },
  "language_info": {
   "codemirror_mode": {
    "name": "ipython",
    "version": 3
   },
   "file_extension": ".py",
   "mimetype": "text/x-python",
   "name": "python",
   "nbconvert_exporter": "python",
   "pygments_lexer": "ipython3",
   "version": "3.8.8"
  }
 },
 "nbformat": 4,
 "nbformat_minor": 5
}
