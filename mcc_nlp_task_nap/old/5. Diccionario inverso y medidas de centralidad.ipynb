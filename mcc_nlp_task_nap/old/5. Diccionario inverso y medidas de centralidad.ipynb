{
 "cells": [
  {
   "cell_type": "code",
   "execution_count": null,
   "id": "500a1fca",
   "metadata": {
    "colab": {
     "base_uri": "https://localhost:8080/"
    },
    "id": "500a1fca",
    "executionInfo": {
     "status": "ok",
     "timestamp": 1677709718092,
     "user_tz": 360,
     "elapsed": 12493,
     "user": {
      "displayName": "Jorge Carlos Reyes",
      "userId": "07937920257637631428"
     }
    },
    "outputId": "b1fc9824-abc2-4a3d-a0a6-2c392a2ddd0a",
    "pycharm": {
     "is_executing": true
    }
   },
   "outputs": [],
   "source": [
    "import networkx as nx\n",
    "import nltk\n",
    "from operator import itemgetter\n",
    "import xlrd\n",
    "import spacy\n",
    "import string\n",
    "import os\n",
    "import matplotlib.pyplot as plt\n",
    "\n",
    "nltk.download('stopwords')\n",
    "! python -m spacy download es\n",
    "nlp = spacy.load(\"es_core_news_sm\")\n"
   ]
  },
  {
   "cell_type": "code",
   "execution_count": null,
   "id": "b11da286",
   "metadata": {
    "id": "b11da286"
   },
   "outputs": [],
   "source": [
    "def ConstruyeGrafos():\n",
    "    lista_grafos = []\n",
    "    nombre_archivo = \"NAP.xls\"\n",
    "    libro = xlrd.open_workbook(nombre_archivo)\n",
    "    hoja = libro.sheet_by_index(0)\n",
    "    GrafoFrec = nx.Graph()\n",
    "    GrafoTiempo = nx.Graph()\n",
    "    GrafoAsoc = nx.Graph()\n",
    "    num_filas = hoja.nrows\n",
    "    estimulo = ''\n",
    "    lema=''\n",
    "    frecuencia = 0\n",
    "    tiempo = 0\n",
    "    asociacion = 0\n",
    "    for fila in range(0,num_filas-1):\n",
    "        celda = hoja.cell(fila,0)\n",
    "        cadena = celda.value\n",
    "        #print(cadena)\n",
    "        if cadena == '--PALABRAS--':\n",
    "            continue\n",
    "        elif cadena == '======':\n",
    "            estimulo = hoja.cell(fila+1,4).value\n",
    "            #doc = nlp(str(estimulo))            \n",
    "            #estimulo = doc[0].lemma_\n",
    "        elif cadena == '' or cadena == '=':\n",
    "            continue\n",
    "        elif hoja.cell(fila,2).value == '':\n",
    "            continue\n",
    "        else: \n",
    "            frecuencia = hoja.cell(fila,1).value\n",
    "            tiempo = hoja.cell(fila,2).value\n",
    "            asociacion = hoja.cell(fila,3).value\n",
    "            palabra = hoja.cell(fila,4).value\n",
    "            estimulo = estimulo.strip()\n",
    "            #doc = nlp(str(palabra))\n",
    "            #lema = doc[0].lemma_\n",
    "            lema = str(palabra)\n",
    "            lema = lema.strip()\n",
    "            GrafoFrec.add_edge(estimulo,lema,weight=1/float(frecuencia))\n",
    "            GrafoTiempo.add_edge(estimulo,lema,weight=float(tiempo))\n",
    "            GrafoAsoc.add_edge(estimulo,lema,weight=100-float(asociacion))\n",
    "    lista_grafos.append(GrafoFrec)\n",
    "    lista_grafos.append(GrafoTiempo)\n",
    "    lista_grafos.append(GrafoAsoc)  \n",
    "    #print(\"Nodos\")\n",
    "    #print(list(GrafoFrec.nodes))\n",
    "    #print(list(GrafoFrec.edges))\n",
    "    return lista_grafos\n"
   ]
  },
  {
   "cell_type": "code",
   "execution_count": null,
   "id": "2c426596",
   "metadata": {
    "id": "2c426596"
   },
   "outputs": [],
   "source": [
    "def limpia_lematiza(cadena):\n",
    "    limpiado = ''\n",
    "    \n",
    "    palabras_funcionales = nltk.corpus.stopwords.words('spanish')\n",
    "    for c in string.punctuation:\n",
    "        cadena = cadena.replace(c,\"\")\n",
    "    cadena = cadena.strip()\n",
    "    for palabra in cadena.split(\" \"):\n",
    "        if palabra not in palabras_funcionales:\n",
    "            doc = nlp(palabra)\n",
    "            limpiado = limpiado + doc[0].lemma_ + \" \"\n",
    "    return limpiado"
   ]
  },
  {
   "cell_type": "code",
   "execution_count": null,
   "id": "c404d252",
   "metadata": {
    "colab": {
     "base_uri": "https://localhost:8080/",
     "height": 36
    },
    "id": "c404d252",
    "executionInfo": {
     "status": "ok",
     "timestamp": 1677709736633,
     "user_tz": 360,
     "elapsed": 204,
     "user": {
      "displayName": "Jorge Carlos Reyes",
      "userId": "07937920257637631428"
     }
    },
    "outputId": "4e2a19a2-42dc-4356-c0b3-d2d8a7ebceda"
   },
   "outputs": [
    {
     "output_type": "execute_result",
     "data": {
      "text/plain": [
       "'insecto rayas producir miel '"
      ],
      "application/vnd.google.colaboratory.intrinsic+json": {
       "type": "string"
      }
     },
     "metadata": {},
     "execution_count": 17
    }
   ],
   "source": [
    "limpia_lematiza(\"insecto de rayas que produce miel\")"
   ]
  },
  {
   "cell_type": "code",
   "execution_count": null,
   "id": "4e094b95",
   "metadata": {
    "id": "4e094b95"
   },
   "outputs": [],
   "source": [
    "def conceptos(lista,subconjunto):\n",
    "    datos = []\n",
    "    if len(lista) <= 100:\n",
    "        tope = len(lista)\n",
    "    else:\n",
    "        tope = 100\n",
    "    for x in range(0,tope):\n",
    "        if str(lista[x][0]) not in subconjunto and float(lista[x][1])>0:\n",
    "            datos.append(str(lista[x][0]))\n",
    "    return datos"
   ]
  },
  {
   "cell_type": "code",
   "execution_count": null,
   "id": "ae2faf52",
   "metadata": {
    "id": "ae2faf52"
   },
   "outputs": [],
   "source": [
    "def diccionario_nap(definicion):\n",
    "    grafos = ConstruyeGrafos()\n",
    "    grafo_frec = grafos[0]\n",
    "    grafo_tiempo = grafos[1]\n",
    "    grafo_asoc = grafos[2]\n",
    "    texto = limpia_lematiza(definicion)\n",
    "    texto = texto.lower()\n",
    "    tokens = texto.split(\" \")\n",
    "    subconjunto_lemas = []\n",
    "    for palabra in tokens:\n",
    "        if palabra in grafo_asoc.nodes() and palabra != '':\n",
    "            subconjunto_lemas.append(palabra)\n",
    "    #print(subconjunto_lemas)\n",
    "    if len(subconjunto_lemas) > 0:\n",
    "        resultados_asociacion = nx.betweenness_centrality_subset(grafo_asoc, subconjunto_lemas, subconjunto_lemas, normalized=True, weight='weight')\n",
    "        encontrados = sorted(resultados_asociacion.items(),key=itemgetter(1),reverse=True)[0:99]\n",
    "        print(\"Asociación\")\n",
    "        print(conceptos(encontrados,subconjunto_lemas))\n",
    "        \n",
    "        resultados_frecuencia = nx.betweenness_centrality_subset(grafo_frec, subconjunto_lemas, subconjunto_lemas, normalized=True, weight='weight')\n",
    "        encontrados = sorted(resultados_frecuencia.items(),key=itemgetter(1),reverse=True)[0:99]\n",
    "        print(\"Frecuencia\")\n",
    "        print(conceptos(encontrados,subconjunto_lemas))\n",
    "        \n",
    "        resultados_tiempo = nx.betweenness_centrality_subset(grafo_tiempo, subconjunto_lemas, subconjunto_lemas, normalized=True, weight='weight')\n",
    "        encontrados = sorted(resultados_tiempo.items(),key=itemgetter(1),reverse=True)[0:99]\n",
    "        print(\"Tiempo\")\n",
    "        print(conceptos(encontrados,subconjunto_lemas))\n",
    "        \n",
    "    else:\n",
    "        print(\"Definición muy corta, favor de agregar más datos.\")\n",
    "    return "
   ]
  },
  {
   "cell_type": "code",
   "execution_count": null,
   "id": "ffb0efaa",
   "metadata": {
    "colab": {
     "base_uri": "https://localhost:8080/"
    },
    "id": "ffb0efaa",
    "executionInfo": {
     "status": "ok",
     "timestamp": 1677709750705,
     "user_tz": 360,
     "elapsed": 4157,
     "user": {
      "displayName": "Jorge Carlos Reyes",
      "userId": "07937920257637631428"
     }
    },
    "outputId": "078ac65c-aa13-47a3-b705-47d094398557"
   },
   "outputs": [
    {
     "output_type": "stream",
     "name": "stdout",
     "text": [
      "Asociación\n",
      "['león', 'hipopótamo']\n",
      "Frecuencia\n",
      "['león', 'mono']\n",
      "Tiempo\n",
      "['león', 'víbora']\n"
     ]
    }
   ],
   "source": [
    "diccionario_nap(\"Animal conocido como el rey de la selva\")"
   ]
  }
 ],
 "metadata": {
  "kernelspec": {
   "display_name": "Python 3",
   "language": "python",
   "name": "python3"
  },
  "language_info": {
   "codemirror_mode": {
    "name": "ipython",
    "version": 3
   },
   "file_extension": ".py",
   "mimetype": "text/x-python",
   "name": "python",
   "nbconvert_exporter": "python",
   "pygments_lexer": "ipython3",
   "version": "3.8.8"
  },
  "colab": {
   "provenance": []
  }
 },
 "nbformat": 4,
 "nbformat_minor": 5
}
