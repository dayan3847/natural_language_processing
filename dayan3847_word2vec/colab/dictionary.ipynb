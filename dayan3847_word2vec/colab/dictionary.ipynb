{
 "cells": [
  {
   "cell_type": "markdown",
   "source": [
    "# Universidad Autónoma de Yucatán\n",
    "\n",
    "## Facultad de Matemáticas\n",
    "\n",
    "### Natural Language Processing\n",
    "\n",
    "**Teacher:** Dr. Jorge Carlos Reyes\n",
    "\n",
    "**Student:** Dayan Bravo Fraga"
   ],
   "metadata": {
    "collapsed": false
   }
  },
  {
   "cell_type": "markdown",
   "source": [
    "# Word2vec"
   ],
   "metadata": {
    "collapsed": false
   }
  },
  {
   "cell_type": "markdown",
   "source": [
    "## Dictionary"
   ],
   "metadata": {
    "collapsed": false
   }
  },
  {
   "cell_type": "markdown",
   "source": [
    "## Clone and load project from GitHub (only for Colab)"
   ],
   "metadata": {
    "collapsed": false
   }
  },
  {
   "cell_type": "code",
   "execution_count": 1,
   "outputs": [
    {
     "name": "stdout",
     "output_type": "stream",
     "text": [
      "Is not running in Colab\n"
     ]
    }
   ],
   "source": [
    "import sys\n",
    "import os\n",
    "\n",
    "in_colab: bool = 'google.colab' in sys.modules\n",
    "if in_colab:\n",
    "    print('Is running in Colab')\n",
    "    # mount drive\n",
    "    from google.colab import drive\n",
    "\n",
    "    drive.mount('/content/drive')\n",
    "    if not os.path.isdir('natural_language_processing'):\n",
    "        print(\"Downloading project\")\n",
    "        ! git clone https: // github.com/dayan3847/natural_language_processing\n",
    "        sys.path.insert(0, './natural_language_processing/')\n",
    "    else:\n",
    "        ! git -C./natural_language_processing fetch\n",
    "        ! git -C./natural_language_processing rebase\n",
    "    if not os.path.isdir('reports'):\n",
    "        print('Copying reports folder')\n",
    "        ! cp -r./machine_learning/stochastic_gradient_descent/colab/reports./\n",
    "else:\n",
    "    print('Is not running in Colab')"
   ],
   "metadata": {
    "collapsed": false,
    "ExecuteTime": {
     "end_time": "2023-05-17T15:49:42.979669702Z",
     "start_time": "2023-05-17T15:49:42.978949456Z"
    }
   }
  },
  {
   "cell_type": "markdown",
   "source": [
    "## Config"
   ],
   "metadata": {
    "collapsed": false
   }
  },
  {
   "cell_type": "code",
   "execution_count": 2,
   "outputs": [
    {
     "name": "stdout",
     "output_type": "stream",
     "text": [
      "root_path_corpus: ./../corpus/\n",
      "root_path_results: ./../emb/\n"
     ]
    }
   ],
   "source": [
    "root_path: str = './../' if not in_colab else './natural_language_processing/'\n",
    "root_path_corpus: str = os.path.join(root_path, 'corpus/')\n",
    "root_path_results: str = './../emb/'\n",
    "print('root_path_corpus:', root_path_corpus)\n",
    "print('root_path_results:', root_path_results)"
   ],
   "metadata": {
    "collapsed": false,
    "ExecuteTime": {
     "end_time": "2023-05-17T15:49:42.980117530Z",
     "start_time": "2023-05-17T15:49:42.979529609Z"
    }
   }
  },
  {
   "cell_type": "markdown",
   "source": [
    "## Import libraries"
   ],
   "metadata": {
    "collapsed": false
   }
  },
  {
   "cell_type": "code",
   "execution_count": 6,
   "outputs": [],
   "source": [
    "import gensim\n",
    "import nltk\n",
    "import xlrd\n",
    "from nltk.tokenize import sent_tokenize, word_tokenize"
   ],
   "metadata": {
    "collapsed": false,
    "ExecuteTime": {
     "end_time": "2023-05-17T15:50:20.783100310Z",
     "start_time": "2023-05-17T15:50:20.735159866Z"
    }
   }
  },
  {
   "cell_type": "code",
   "execution_count": 4,
   "outputs": [
    {
     "name": "stderr",
     "output_type": "stream",
     "text": [
      "[nltk_data] Downloading package punkt to /home/dayan3847/nltk_data...\n",
      "[nltk_data]   Package punkt is already up-to-date!\n"
     ]
    },
    {
     "data": {
      "text/plain": "True"
     },
     "execution_count": 4,
     "metadata": {},
     "output_type": "execute_result"
    }
   ],
   "source": [
    "nltk.download('punkt')"
   ],
   "metadata": {
    "collapsed": false,
    "ExecuteTime": {
     "end_time": "2023-05-17T15:49:43.527377533Z",
     "start_time": "2023-05-17T15:49:43.376963271Z"
    }
   }
  },
  {
   "cell_type": "code",
   "execution_count": 8,
   "outputs": [],
   "source": [
    "example_name = \"Diccionario.xls\""
   ],
   "metadata": {
    "collapsed": false,
    "ExecuteTime": {
     "end_time": "2023-05-17T15:52:34.658841563Z",
     "start_time": "2023-05-17T15:52:34.610786467Z"
    }
   }
  },
  {
   "cell_type": "code",
   "execution_count": 9,
   "outputs": [],
   "source": [
    "workbook = xlrd.open_workbook(root_path_corpus + example_name)\n",
    "worksheet = workbook.sheet_by_index(0)"
   ],
   "metadata": {
    "collapsed": false,
    "ExecuteTime": {
     "end_time": "2023-05-17T15:52:35.898034146Z",
     "start_time": "2023-05-17T15:52:35.643457793Z"
    }
   }
  },
  {
   "cell_type": "code",
   "execution_count": 10,
   "outputs": [
    {
     "data": {
      "text/plain": "3"
     },
     "execution_count": 10,
     "metadata": {},
     "output_type": "execute_result"
    }
   ],
   "source": [
    "columns = worksheet.ncols\n",
    "columns"
   ],
   "metadata": {
    "collapsed": false,
    "ExecuteTime": {
     "end_time": "2023-05-17T15:52:38.531264753Z",
     "start_time": "2023-05-17T15:52:38.525109169Z"
    }
   }
  },
  {
   "cell_type": "code",
   "execution_count": 11,
   "outputs": [
    {
     "data": {
      "text/plain": "21090"
     },
     "execution_count": 11,
     "metadata": {},
     "output_type": "execute_result"
    }
   ],
   "source": [
    "rows = worksheet.nrows\n",
    "rows"
   ],
   "metadata": {
    "collapsed": false,
    "ExecuteTime": {
     "end_time": "2023-05-17T15:52:48.503829711Z",
     "start_time": "2023-05-17T15:52:48.456632169Z"
    }
   }
  },
  {
   "cell_type": "code",
   "execution_count": 12,
   "outputs": [],
   "source": [
    "def clear_text(text):\n",
    "    text = text.replace('NULL', '')\n",
    "    text = text.replace('<i>', '')\n",
    "    text = text.replace('</i>', '')\n",
    "    text = text.replace('&#8220;', '')\n",
    "\n",
    "    return text"
   ],
   "metadata": {
    "collapsed": false,
    "ExecuteTime": {
     "end_time": "2023-05-17T15:53:12.227196236Z",
     "start_time": "2023-05-17T15:53:12.223083658Z"
    }
   }
  },
  {
   "cell_type": "code",
   "execution_count": 16,
   "outputs": [],
   "source": [
    "text_example = ''\n",
    "for i in range(rows):\n",
    "    for j in range(columns):\n",
    "        cell = str(worksheet.cell_value(i, j))\n",
    "        cell = clear_text(cell)\n",
    "        text_example += cell.strip() + ' '"
   ],
   "metadata": {
    "collapsed": false,
    "ExecuteTime": {
     "end_time": "2023-05-17T15:54:22.971160698Z",
     "start_time": "2023-05-17T15:54:22.903615145Z"
    }
   }
  },
  {
   "cell_type": "code",
   "execution_count": 17,
   "outputs": [
    {
     "data": {
      "text/plain": "'vocablo definición ejemplos a Letra A (en mayúsculas) o a (en minúsculas) y fonema vocal abierto cen'"
     },
     "execution_count": 17,
     "metadata": {},
     "output_type": "execute_result"
    }
   ],
   "source": [
    "text_example[:100]"
   ],
   "metadata": {
    "collapsed": false,
    "ExecuteTime": {
     "end_time": "2023-05-17T15:54:24.563125470Z",
     "start_time": "2023-05-17T15:54:24.559742165Z"
    }
   }
  },
  {
   "cell_type": "code",
   "execution_count": 18,
   "outputs": [],
   "source": [
    "def get_data_from_test(text):\n",
    "    data = []\n",
    "    # iterate through each sentence in the file\n",
    "    for i in sent_tokenize(text):\n",
    "        temp = []\n",
    "        # tokenize the sentence into words\n",
    "        for j in word_tokenize(i):\n",
    "            temp.append(j.lower())\n",
    "        data.append(temp)\n",
    "\n",
    "    return data"
   ],
   "metadata": {
    "collapsed": false,
    "ExecuteTime": {
     "end_time": "2023-05-17T15:54:27.524599678Z",
     "start_time": "2023-05-17T15:54:27.520488836Z"
    }
   }
  },
  {
   "cell_type": "code",
   "execution_count": 19,
   "outputs": [
    {
     "data": {
      "text/plain": "['vocablo', 'definición', 'ejemplos']"
     },
     "execution_count": 19,
     "metadata": {},
     "output_type": "execute_result"
    }
   ],
   "source": [
    "example_data = get_data_from_test(text_example)\n",
    "example_data[0][:3]"
   ],
   "metadata": {
    "collapsed": false,
    "ExecuteTime": {
     "end_time": "2023-05-17T15:54:38.282560161Z",
     "start_time": "2023-05-17T15:54:37.317002658Z"
    }
   }
  },
  {
   "cell_type": "markdown",
   "source": [
    "## Create CBOW model"
   ],
   "metadata": {
    "collapsed": false
   }
  },
  {
   "cell_type": "code",
   "execution_count": 20,
   "outputs": [],
   "source": [
    "# Create CBOW model\n",
    "def create_cbow_model(data, file_name_to_save: str = ''):\n",
    "    model = gensim.models.Word2Vec(data, min_count=1, vector_size=300, window=5)\n",
    "    if file_name_to_save != '':\n",
    "        word_vectors = model.wv\n",
    "        word_vectors.save_word2vec_format(f\"{root_path_results}{file_name_to_save}.cbow.emb\", binary=False)\n",
    "\n",
    "    return model"
   ],
   "metadata": {
    "collapsed": false,
    "ExecuteTime": {
     "end_time": "2023-05-17T15:54:52.571544273Z",
     "start_time": "2023-05-17T15:54:52.527718816Z"
    }
   }
  },
  {
   "cell_type": "code",
   "execution_count": 21,
   "outputs": [],
   "source": [
    "model_cbow = create_cbow_model(example_data, example_name)"
   ],
   "metadata": {
    "collapsed": false,
    "ExecuteTime": {
     "end_time": "2023-05-17T15:55:02.333921497Z",
     "start_time": "2023-05-17T15:54:55.816676755Z"
    }
   }
  },
  {
   "cell_type": "markdown",
   "source": [
    "## Create Skip Gram model"
   ],
   "metadata": {
    "collapsed": false
   }
  },
  {
   "cell_type": "code",
   "execution_count": 22,
   "outputs": [],
   "source": [
    "# Create Skip Gram model\n",
    "def create_skip_gram_model(data, file_name_to_save: str = ''):\n",
    "    model = gensim.models.Word2Vec(data, min_count=1, vector_size=300, window=5, sg=1)\n",
    "    if file_name_to_save != '':\n",
    "        word_vectors = model.wv\n",
    "        word_vectors.save_word2vec_format(f\"{root_path_results}{file_name_to_save}.skip_gram.emb\", binary=False)\n",
    "\n",
    "    return model"
   ],
   "metadata": {
    "collapsed": false,
    "ExecuteTime": {
     "end_time": "2023-05-17T15:55:26.919003692Z",
     "start_time": "2023-05-17T15:55:26.876235708Z"
    }
   }
  },
  {
   "cell_type": "code",
   "execution_count": 23,
   "outputs": [],
   "source": [
    "model_skip_gram = create_skip_gram_model(example_data, example_name)"
   ],
   "metadata": {
    "collapsed": false,
    "ExecuteTime": {
     "end_time": "2023-05-17T15:55:39.383267972Z",
     "start_time": "2023-05-17T15:55:29.478426963Z"
    }
   }
  },
  {
   "cell_type": "markdown",
   "source": [
    "## Tests"
   ],
   "metadata": {
    "collapsed": false
   }
  },
  {
   "cell_type": "code",
   "execution_count": 24,
   "outputs": [
    {
     "data": {
      "text/plain": "0.9676926"
     },
     "execution_count": 24,
     "metadata": {},
     "output_type": "execute_result"
    }
   ],
   "source": [
    "model_cbow.wv.similarity('perro', 'gato')"
   ],
   "metadata": {
    "collapsed": false,
    "ExecuteTime": {
     "end_time": "2023-05-17T15:55:45.515528889Z",
     "start_time": "2023-05-17T15:55:45.470282071Z"
    }
   }
  },
  {
   "cell_type": "code",
   "execution_count": 25,
   "outputs": [
    {
     "data": {
      "text/plain": "0.96144927"
     },
     "execution_count": 25,
     "metadata": {},
     "output_type": "execute_result"
    }
   ],
   "source": [
    "model_skip_gram.wv.similarity('perro', 'gato')"
   ],
   "metadata": {
    "collapsed": false,
    "ExecuteTime": {
     "end_time": "2023-05-17T15:55:47.886842904Z",
     "start_time": "2023-05-17T15:55:47.884435698Z"
    }
   }
  }
 ],
 "metadata": {
  "kernelspec": {
   "display_name": "Python 3",
   "language": "python",
   "name": "python3"
  },
  "language_info": {
   "codemirror_mode": {
    "name": "ipython",
    "version": 2
   },
   "file_extension": ".py",
   "mimetype": "text/x-python",
   "name": "python",
   "nbconvert_exporter": "python",
   "pygments_lexer": "ipython2",
   "version": "2.7.6"
  }
 },
 "nbformat": 4,
 "nbformat_minor": 0
}
