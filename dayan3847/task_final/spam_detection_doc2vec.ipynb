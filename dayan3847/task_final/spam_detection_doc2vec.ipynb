{
 "cells": [
  {
   "cell_type": "markdown",
   "source": [
    "# Universidad Autónoma de Yucatán\n",
    "\n",
    "## Facultad de Matemáticas\n",
    "\n",
    "### Natural Language Processing\n",
    "\n",
    "**Teacher:** Dr. Jorge Carlos Reyes\n",
    "\n",
    "**Student:** Dayan Bravo Fraga"
   ],
   "metadata": {
    "collapsed": false
   }
  },
  {
   "cell_type": "markdown",
   "source": [
    "# Doc2vec\n",
    "\n",
    "## Document to Vector"
   ],
   "metadata": {
    "collapsed": false
   }
  },
  {
   "cell_type": "markdown",
   "source": [
    "# Practice: \"Spam Detection\""
   ],
   "metadata": {
    "collapsed": false
   }
  },
  {
   "cell_type": "markdown",
   "source": [
    "## Download Corpus from GitHub (only for Colab)"
   ],
   "metadata": {
    "collapsed": false
   }
  },
  {
   "cell_type": "code",
   "execution_count": 1,
   "outputs": [
    {
     "name": "stdout",
     "output_type": "stream",
     "text": [
      "Is not running in Colab\n"
     ]
    }
   ],
   "source": [
    "import sys\n",
    "\n",
    "in_colab: bool = 'google.colab' in sys.modules\n",
    "if in_colab:\n",
    "    print('Is running in Colab')\n",
    "    import os\n",
    "\n",
    "    if not os.path.isfile('spam.csv'):\n",
    "        import gdown\n",
    "\n",
    "        print(\"Downloading Data\")\n",
    "        url = \"https://raw.githubusercontent.com/dayan3847/natural_language_processing/dayan3847/task_final/spam.csv\"\n",
    "        gdown.download(url, quiet=False)\n",
    "else:\n",
    "    print('Is not running in Colab')"
   ],
   "metadata": {
    "collapsed": false,
    "ExecuteTime": {
     "end_time": "2023-05-24T05:34:42.773035617Z",
     "start_time": "2023-05-24T05:34:42.771728397Z"
    }
   }
  },
  {
   "cell_type": "markdown",
   "source": [
    "## Import Libraries"
   ],
   "metadata": {
    "collapsed": false
   }
  },
  {
   "cell_type": "code",
   "execution_count": 2,
   "outputs": [],
   "source": [
    "import pandas as pd\n",
    "from gensim.models.doc2vec import Doc2Vec, TaggedDocument\n",
    "from nltk.tokenize import word_tokenize\n",
    "from sklearn.model_selection import train_test_split"
   ],
   "metadata": {
    "collapsed": false,
    "ExecuteTime": {
     "end_time": "2023-05-24T05:34:43.410708665Z",
     "start_time": "2023-05-24T05:34:42.773505863Z"
    }
   }
  },
  {
   "cell_type": "markdown",
   "source": [
    "## Import Data"
   ],
   "metadata": {
    "collapsed": false
   }
  },
  {
   "cell_type": "code",
   "execution_count": 3,
   "outputs": [
    {
     "data": {
      "text/plain": "                                                text target\n0  Go until jurong point, crazy.. Available only ...    ham\n1                      Ok lar... Joking wif u oni...    ham\n2  Free entry in 2 a wkly comp to win FA Cup fina...   spam\n3  U dun say so early hor... U c already then say...    ham\n4  Nah I don't think he goes to usf, he lives aro...    ham\n5  FreeMsg Hey there darling it's been 3 week's n...   spam\n6  Even my brother is not like to speak with me. ...    ham\n7  As per your request 'Melle Melle (Oru Minnamin...    ham\n8  WINNER!! As a valued network customer you have...   spam\n9  Had your mobile 11 months or more? U R entitle...   spam",
      "text/html": "<div>\n<style scoped>\n    .dataframe tbody tr th:only-of-type {\n        vertical-align: middle;\n    }\n\n    .dataframe tbody tr th {\n        vertical-align: top;\n    }\n\n    .dataframe thead th {\n        text-align: right;\n    }\n</style>\n<table border=\"1\" class=\"dataframe\">\n  <thead>\n    <tr style=\"text-align: right;\">\n      <th></th>\n      <th>text</th>\n      <th>target</th>\n    </tr>\n  </thead>\n  <tbody>\n    <tr>\n      <th>0</th>\n      <td>Go until jurong point, crazy.. Available only ...</td>\n      <td>ham</td>\n    </tr>\n    <tr>\n      <th>1</th>\n      <td>Ok lar... Joking wif u oni...</td>\n      <td>ham</td>\n    </tr>\n    <tr>\n      <th>2</th>\n      <td>Free entry in 2 a wkly comp to win FA Cup fina...</td>\n      <td>spam</td>\n    </tr>\n    <tr>\n      <th>3</th>\n      <td>U dun say so early hor... U c already then say...</td>\n      <td>ham</td>\n    </tr>\n    <tr>\n      <th>4</th>\n      <td>Nah I don't think he goes to usf, he lives aro...</td>\n      <td>ham</td>\n    </tr>\n    <tr>\n      <th>5</th>\n      <td>FreeMsg Hey there darling it's been 3 week's n...</td>\n      <td>spam</td>\n    </tr>\n    <tr>\n      <th>6</th>\n      <td>Even my brother is not like to speak with me. ...</td>\n      <td>ham</td>\n    </tr>\n    <tr>\n      <th>7</th>\n      <td>As per your request 'Melle Melle (Oru Minnamin...</td>\n      <td>ham</td>\n    </tr>\n    <tr>\n      <th>8</th>\n      <td>WINNER!! As a valued network customer you have...</td>\n      <td>spam</td>\n    </tr>\n    <tr>\n      <th>9</th>\n      <td>Had your mobile 11 months or more? U R entitle...</td>\n      <td>spam</td>\n    </tr>\n  </tbody>\n</table>\n</div>"
     },
     "execution_count": 3,
     "metadata": {},
     "output_type": "execute_result"
    }
   ],
   "source": [
    "spam_data = pd.read_csv('spam.csv')\n",
    "spam_data.head(10)"
   ],
   "metadata": {
    "collapsed": false,
    "ExecuteTime": {
     "end_time": "2023-05-24T05:34:43.425169688Z",
     "start_time": "2023-05-24T05:34:43.412478747Z"
    }
   }
  },
  {
   "cell_type": "markdown",
   "source": [
    "## Split Data into Train and Test"
   ],
   "metadata": {
    "collapsed": false
   }
  },
  {
   "cell_type": "code",
   "execution_count": 4,
   "outputs": [],
   "source": [
    "x_train, x_test, y_train, y_test = train_test_split(\n",
    "    spam_data['text'],\n",
    "    spam_data['target'],\n",
    "    random_state=0,\n",
    ")"
   ],
   "metadata": {
    "collapsed": false,
    "ExecuteTime": {
     "end_time": "2023-05-24T05:34:43.429040170Z",
     "start_time": "2023-05-24T05:34:43.427278613Z"
    }
   }
  },
  {
   "cell_type": "markdown",
   "source": [
    "## Training data tokenization"
   ],
   "metadata": {
    "collapsed": false
   }
  },
  {
   "cell_type": "code",
   "execution_count": 5,
   "outputs": [],
   "source": [
    "x_train_tk = [word_tokenize(_x.lower()) for _x in x_train]\n",
    "y_train_tk = [str(_y) for _y in y_train]"
   ],
   "metadata": {
    "collapsed": false,
    "ExecuteTime": {
     "end_time": "2023-05-24T05:34:43.969908982Z",
     "start_time": "2023-05-24T05:34:43.429938083Z"
    }
   }
  },
  {
   "cell_type": "markdown",
   "source": [
    "## Test data tokenization"
   ],
   "metadata": {
    "collapsed": false
   }
  },
  {
   "cell_type": "code",
   "execution_count": 6,
   "outputs": [],
   "source": [
    "x_test_tk = [word_tokenize(_x.lower()) for _x in x_test]\n",
    "y_test_tk = [str(_y) for _y in y_test]"
   ],
   "metadata": {
    "collapsed": false,
    "ExecuteTime": {
     "end_time": "2023-05-24T05:34:44.148414988Z",
     "start_time": "2023-05-24T05:34:43.981525495Z"
    }
   }
  },
  {
   "cell_type": "markdown",
   "source": [
    "## Create labels for documents"
   ],
   "metadata": {
    "collapsed": false
   }
  },
  {
   "cell_type": "code",
   "execution_count": 7,
   "outputs": [],
   "source": [
    "tagged_data = [TaggedDocument(words=x_train_tk[i], tags=[y_train_tk[i]]) for i in range(len(x_train_tk))]"
   ],
   "metadata": {
    "collapsed": false,
    "ExecuteTime": {
     "end_time": "2023-05-24T05:34:44.154293442Z",
     "start_time": "2023-05-24T05:34:44.152783422Z"
    }
   }
  },
  {
   "cell_type": "markdown",
   "source": [
    "## Doc2Vec model training"
   ],
   "metadata": {
    "collapsed": false
   }
  },
  {
   "cell_type": "code",
   "execution_count": 8,
   "outputs": [],
   "source": [
    "model = Doc2Vec(tagged_data, vector_size=200, min_count=1, epochs=20)"
   ],
   "metadata": {
    "collapsed": false,
    "ExecuteTime": {
     "end_time": "2023-05-24T05:34:46.806992211Z",
     "start_time": "2023-05-24T05:34:44.155638168Z"
    }
   }
  },
  {
   "cell_type": "markdown",
   "source": [
    "## Calculate Accuracy Function"
   ],
   "metadata": {
    "collapsed": false
   }
  },
  {
   "cell_type": "code",
   "execution_count": 9,
   "outputs": [],
   "source": [
    "def calculate_accuracy(x, y):\n",
    "    _correct = 0\n",
    "    _incorrect = 0\n",
    "    for i in range(len(x)):\n",
    "        _x = x[i]\n",
    "        _y = y[i]\n",
    "        _xv = model.infer_vector(_x)\n",
    "        _h = model.dv.most_similar([_xv], topn=1)[0][0]\n",
    "        if _h == _y:\n",
    "            _correct += 1\n",
    "        else:\n",
    "            _incorrect += 1\n",
    "\n",
    "    total = _correct + _incorrect\n",
    "    _correct /= total\n",
    "    _incorrect /= total\n",
    "\n",
    "    return _correct, _incorrect"
   ],
   "metadata": {
    "collapsed": false,
    "ExecuteTime": {
     "end_time": "2023-05-24T05:34:46.810936548Z",
     "start_time": "2023-05-24T05:34:46.809684599Z"
    }
   }
  },
  {
   "cell_type": "markdown",
   "source": [
    "## Train Accuracy"
   ],
   "metadata": {
    "collapsed": false
   }
  },
  {
   "cell_type": "code",
   "execution_count": 10,
   "outputs": [
    {
     "name": "stdout",
     "output_type": "stream",
     "text": [
      "Train Accuracy\n",
      "Correct: 0.8255563531945441\n",
      "Incorrect: 0.17444364680545585\n"
     ]
    }
   ],
   "source": [
    "correct, incorrect = calculate_accuracy(x_train_tk, y_train_tk)\n",
    "print('Train Accuracy')\n",
    "print('Correct:', correct)\n",
    "print('Incorrect:', incorrect)"
   ],
   "metadata": {
    "collapsed": false,
    "ExecuteTime": {
     "end_time": "2023-05-24T05:34:50.193800002Z",
     "start_time": "2023-05-24T05:34:46.811073909Z"
    }
   }
  },
  {
   "cell_type": "markdown",
   "source": [
    "## Test Accuracy"
   ],
   "metadata": {
    "collapsed": false
   }
  },
  {
   "cell_type": "code",
   "execution_count": 11,
   "outputs": [
    {
     "name": "stdout",
     "output_type": "stream",
     "text": [
      "Test Accuracy\n",
      "Correct: 0.8183776022972002\n",
      "Incorrect: 0.18162239770279973\n"
     ]
    }
   ],
   "source": [
    "correct, incorrect = calculate_accuracy(x_test_tk, y_test_tk)\n",
    "print('Test Accuracy')\n",
    "print('Correct:', correct)\n",
    "print('Incorrect:', incorrect)"
   ],
   "metadata": {
    "collapsed": false,
    "ExecuteTime": {
     "end_time": "2023-05-24T05:34:51.402121510Z",
     "start_time": "2023-05-24T05:34:50.195454863Z"
    }
   }
  },
  {
   "cell_type": "markdown",
   "source": [
    "# Results"
   ],
   "metadata": {
    "collapsed": false
   }
  },
  {
   "cell_type": "markdown",
   "source": [
    "## Experiment 1\n",
    "\n",
    "### Config\n",
    "- Vector Size: 100\n",
    "- Epochs: 5\n",
    "\n",
    "### Train Accuracy\n",
    "- Correct: <span style=\"color: green;\">0.7659727207465901</span>\n",
    "- Incorrect: <span style=\"color: red;\">0.2340272792534099</span>\n",
    "\n",
    "### Test Accuracy\n",
    "- Correct: <span style=\"color: green;\">0.7430007178750897</span>\n",
    "- Incorrect: <span style=\"color: red;\">0.25699928212491024</span>"
   ],
   "metadata": {
    "collapsed": false
   }
  },
  {
   "cell_type": "markdown",
   "source": [
    "## Experiment 2\n",
    "\n",
    "### Config\n",
    "- Vector Size: 100\n",
    "- Epochs: 20\n",
    "\n",
    "### Train Accuracy\n",
    "- Correct: <span style=\"color: green;\">0.7695620961952621</span>\n",
    "- Incorrect: <span style=\"color: red;\">0.23043790380473797</span>\n",
    "\n",
    "### Test Accuracy\n",
    "- Correct: <span style=\"color: green;\">0.7989949748743719</span>\n",
    "- Incorrect: <span style=\"color: red;\">0.20100502512562815</span>"
   ],
   "metadata": {
    "collapsed": false
   }
  },
  {
   "cell_type": "markdown",
   "source": [
    "## Experiment 3\n",
    "\n",
    "### Config\n",
    "- Vector Size: 150\n",
    "- Epochs: 20\n",
    "\n",
    "### Train Accuracy\n",
    "- Correct: <span style=\"color: green;\">0.8054558506819813</span>\n",
    "- Incorrect: <span style=\"color: red;\">0.19454414931801867</span>\n",
    "\n",
    "### Test Accuracy\n",
    "- Correct: <span style=\"color: green;\">0.815984685331419</span>\n",
    "- Incorrect: <span style=\"color: red;\">0.184015314668581</span>"
   ],
   "metadata": {
    "collapsed": false
   }
  }
 ],
 "metadata": {
  "kernelspec": {
   "display_name": "Python 3",
   "language": "python",
   "name": "python3"
  },
  "language_info": {
   "codemirror_mode": {
    "name": "ipython",
    "version": 2
   },
   "file_extension": ".py",
   "mimetype": "text/x-python",
   "name": "python",
   "nbconvert_exporter": "python",
   "pygments_lexer": "ipython2",
   "version": "2.7.6"
  }
 },
 "nbformat": 4,
 "nbformat_minor": 0
}
